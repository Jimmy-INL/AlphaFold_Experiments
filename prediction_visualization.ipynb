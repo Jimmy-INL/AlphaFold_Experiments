{
 "cells": [
  {
   "cell_type": "markdown",
   "metadata": {},
   "source": [
    "## Visualization tools for ProSPr Distance Predictions\n",
    "Dr. Dennis Della Corte       \n",
    "Brigham Young University, Utah   \n",
    "2019-10-30"
   ]
  },
  {
   "cell_type": "code",
   "execution_count": 3,
   "metadata": {},
   "outputs": [],
   "source": [
    "import numpy as np\n",
    "import matplotlib.pyplot as plt\n",
    "import pickle as pkl  \n",
    "import pandas as pd\n",
    "\n",
    "def load(fileName): \n",
    "    print(\"Loading %s...\" %fileName)\n",
    "    fileObject2 = open(fileName, 'rb') \n",
    "    modelInput = pkl.load(fileObject2) \n",
    "    fileObject2.close() \n",
    "    return modelInput"
   ]
  },
  {
   "cell_type": "markdown",
   "metadata": {},
   "source": [
    "#### Modify these identifiers to match the run with which you obtained predictions:"
   ]
  },
  {
   "cell_type": "code",
   "execution_count": 4,
   "metadata": {},
   "outputs": [],
   "source": [
    "#example\n",
    "domain_id = 'T1016-D1'\n",
    "network = '1'\n",
    "stride = '25'"
   ]
  },
  {
   "cell_type": "code",
   "execution_count": 11,
   "metadata": {},
   "outputs": [
    {
     "name": "stdout",
     "output_type": "stream",
     "text": [
      "Loading /home/xander/data/test1/test1__25_predictions.pkl...\n"
     ]
    }
   ],
   "source": [
    "#load and display prediction data\n",
    "#prediction = load('../data/test1/'+domain_id+'_'+str(network)+'_'+str(stride)+'_predictions.pkl')\n",
    "prediction = load('/home/xander/data/test1/test1__25_predictions.pkl')\n"
   ]
  },
  {
   "cell_type": "code",
   "execution_count": 12,
   "metadata": {},
   "outputs": [
    {
     "data": {
      "text/plain": [
       "Text(0, 0.5, 'Residue j')"
      ]
     },
     "execution_count": 12,
     "metadata": {},
     "output_type": "execute_result"
    },
    {
     "data": {
      "image/png": "[encoded data removed]",
      "text/plain": [
       "<Figure size 432x288 with 1 Axes>"
      ]
     },
     "metadata": {
      "needs_background": "light"
     },
     "output_type": "display_data"
    }
   ],
   "source": [
    "plt.imshow(-np.argmax(prediction[1:,:,:],axis=0))\n",
    "plt.suptitle('ProSPr '+domain_id+' Prediction', fontsize=14)\n",
    "plt.title('Network '+network+', Stride '+stride, fontsize=10)\n",
    "plt.xlabel('Residue i')\n",
    "plt.ylabel('Residue j')"
   ]
  },
  {
   "cell_type": "code",
   "execution_count": 14,
   "metadata": {},
   "outputs": [
    {
     "name": "stdout",
     "output_type": "stream",
     "text": [
      "<class 'numpy.ndarray'>\n",
      "(64, 51, 51)\n"
     ]
    }
   ],
   "source": [
    "print(type(prediction))\n",
    "print(prediction.shape)"
   ]
  },
  {
   "cell_type": "code",
   "execution_count": null,
   "metadata": {},
   "outputs": [],
   "source": []
  }
 ],
 "metadata": {
  "kernelspec": {
   "display_name": "Python 3",
   "language": "python",
   "name": "python3"
  },
  "language_info": {
   "codemirror_mode": {
    "name": "ipython",
    "version": 3
   },
   "file_extension": ".py",
   "mimetype": "text/x-python",
   "name": "python",
   "nbconvert_exporter": "python",
   "pygments_lexer": "ipython3",
   "version": "3.7.3"
  }
 },
 "nbformat": 4,
 "nbformat_minor": 2
}
