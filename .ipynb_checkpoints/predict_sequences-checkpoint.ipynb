{
 "cells": [
  {
   "cell_type": "code",
   "execution_count": 1,
   "metadata": {},
   "outputs": [],
   "source": [
    "fasta_sequence_file = '/home/xander/data/zoo/zoo.fasta'"
   ]
  },
  {
   "cell_type": "code",
   "execution_count": 8,
   "metadata": {},
   "outputs": [],
   "source": [
    "def parse_fasta_file(filepath):\n",
    "    sequences = {}\n",
    "    with open(filepath) as fp:\n",
    "        line = fp.readline()\n",
    "        cnt = 1\n",
    "        while line:\n",
    "            line_text = line.strip()\n",
    "            if len(line_text) > 0:\n",
    "                if line_text[0] == '>':\n",
    "                    current_sequence = line_text[1:]\n",
    "                    sequences[current_sequence] = ''\n",
    "                else:\n",
    "                    sequences[current_sequence] = line_text\n",
    "            line = fp.readline()\n",
    "            cnt += 1\n",
    "    return sequences\n",
    "        \n",
    "sequence_dict = parse_fasta_file(fasta_sequence_file)"
   ]
  },
  {
   "cell_type": "code",
   "execution_count": 14,
   "metadata": {},
   "outputs": [
    {
     "name": "stdout",
     "output_type": "stream",
     "text": [
      "            5UFE: ATVKFTHQGEEKQVDISKIKWVIRWGQYIWFKYDEDGGAKGWGYVSEKDAPKELLQMLKKR\n",
      "            1SSO: ATVKFKYKGEEKQVDISKIKKVWRVGKMISFTYDEGGGKTGRGAVSEKDAPKELLQMLEKQK\n",
      "           human: STIEEQAKTFLDKFNHEAEDLFYQSSLASWNYNTNIT\n",
      "          goat_1: EAEARKFVEEYDRRSQVVWNEYAEANWNYNTNIS\n",
      "       armadillo: EEQASTFLETFNQQAEELSHQSALASWNYNTNIT\n",
      "       alligator: VPQDVTTFLNQFNQNAEGLYYESSLASWAYNTNIT\n",
      "         vicugna: ETEASKFVEEYDRISQVVLNQYAEANWNYNTNIT\n",
      "   electrophorus: ETEASKFVEEYDRISQVVLNQYAEANWNYNTNIT\n",
      "         camel_1: ETVAKTFLQFYEHTAQVVWNQFMEATWNYVTNIT\n",
      "           camel: STTEELAKTFLEEFNHEAEDLSYQSSLASWNYNTNIT\n",
      "   branchiostoma: DDAQRFLSDYNARAQEVWNAYVVASWNYDTNLT\n",
      "          salmon: EVQAKKFLEDYNSTAEGVWNAYTEASWAYNTDI\n",
      "     pontibacter: TAVQQEAQTFLDEYSTTYQDLYTKSAEAEWASNTKIV\n",
      "     flexibacter: VQLQAQTYLDGYNKQFQDLIYKDNLAQWTLNTRIV\n",
      "           mouse: SLTEENAKTFLNNFNQEAEDLSYQSSLASWNYNTNIT\n",
      "        elephant: STTEDLARTFLDTFNQEAEDLSYQSSLASWDYNTNIT\n",
      "Bacteroidetes_bacterium: AVQQQAQQFIDEYTQQLLPLYYESALAEWDANTHIV\n",
      "         chicken: VTQEAQTFLAEFNVRAEDISYENSLASWNYNTNIT\n",
      "         xenopus: SVTDQARDFLKRFEQEAEVLYHQSALAQWEYNTNIT\n",
      "             cow: STTEEQAKTFLEKFNHEAEDLSYQSSLASWNYNTNIT\n",
      "        pangolin: STSDEEAKTFLEKFNSEAEELSYQSSLASWNYNTNIT\n",
      "         raccoon: STTEDLANTFLENFNNETEELSYQNSLASWNYNTNIT\n",
      "         opossum: SIEEDAKTFLDDYNAKAEELSHQSALASWEYNTNIT\n",
      " coleseed_sawfly: ASLEKRAKEFLDQLNNDIAEWNHCEALAQWAYDSNLT\n",
      "python_corrected: VTQEAAEFLMQFDVRADDLYYDASIASWNYNTNIT\n",
      "        hornbill: ITQEAQNFLEQFNRRAEDISYESSLASWKVCVN\n",
      "             gar: EGDAAVFLDEFDKNATHLTYLNSLASWEYNTNIT\n",
      "             cod: ETRARAFLEKFSTEASVKMYDYSLASWAYNTDIT\n",
      "             tit: VTQEAQEFLEEFNMRAENISYENSIASWNYNTNIT\n",
      "            goat: STTEEQAKTFLEKFNHEAEDLSYQSSLASWNYNTNIT\n",
      "         hamster: SIIEEQAKTFLDKFNQEAEDLSYQSALASWNYNTNIT\n",
      "           whale: SATEERAKTFLQKFDREAEDLSYQSSLASWNYNTNIT\n",
      "        sea_lion: STTEDLVKTFLEKFNSEAEELSYQSSLASWNYNTNIT\n",
      "      zebra_fish: SDVESQAREFLDRFDKEASDLMYQYSLASWAYNTNIT\n",
      "           finch: VTQQAKTFLEEFNMRAEDISYENSIASWNYNTNIT\n",
      "            crow: VTQQAQMFLEEFNRRAENISYENSLASWNYNTNIT\n",
      "          turtle: QEASNFLSQFNVRAEDLSYASSLASWDYNTNIT\n",
      "           sheep: STTEGQAKTFLEKFNHEAEDLSYQSSLASWNYNTNIT\n",
      "           shrew: TTIEEEAKVFLNKFNIEAEELSHQSSLASWDYNTNIT\n",
      "             bat: SSTEEKAKIFLENFNSKAEDLSHESALASWNYNTNIT\n",
      "         pelican: VTQQAQMFLEEFNRRAEDISYESSLASWNYNTNIT\n",
      "black_flying_fox: STPEELAKTFLEKFNTEVEDLFYQSSLASWDYNTNIT\n",
      "Pearson_horseshoe_bat: STTEDRAKTFLDKFNHEAEDLSHESSLASWEYNTNIS\n",
      "Chinese_horseshoe_bat: STTEDRAKTFLDEFNSEAENLSYQSSLASWDYNTNIN\n",
      "      civet_3D0G: STTEELAKTFLETFNYEAQELSYQSSVASWNYNTNIT\n",
      "\n",
      "Found a total of 45 sequences!\n"
     ]
    }
   ],
   "source": [
    "def create_fasta_file(sequence_name, sequence):\n",
    "    os.makedirs('', exist_ok = True)\n",
    "\n",
    "\n",
    "n = 0\n",
    "for key, value in sequence_dict.items():\n",
    "    print('%16s: %s' %(key, value))\n",
    "    \n",
    "    n+=1\n",
    "    \n",
    "print(\"\\nFound a total of %d sequences!\" %n)"
   ]
  },
  {
   "cell_type": "code",
   "execution_count": null,
   "metadata": {},
   "outputs": [],
   "source": []
  }
 ],
 "metadata": {
  "kernelspec": {
   "display_name": "Python 3",
   "language": "python",
   "name": "python3"
  },
  "language_info": {
   "codemirror_mode": {
    "name": "ipython",
    "version": 3
   },
   "file_extension": ".py",
   "mimetype": "text/x-python",
   "name": "python",
   "nbconvert_exporter": "python",
   "pygments_lexer": "ipython3",
   "version": "3.7.3"
  }
 },
 "nbformat": 4,
 "nbformat_minor": 2
}
